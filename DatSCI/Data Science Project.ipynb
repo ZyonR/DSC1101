{
 "cells": [
  {
   "cell_type": "code",
   "execution_count": 112,
   "id": "8b76328c-7291-4f2b-864a-66beed07829e",
   "metadata": {},
   "outputs": [
    {
     "name": "stderr",
     "output_type": "stream",
     "text": [
      "[nltk_data] Downloading package stopwords to\n",
      "[nltk_data]     C:\\Users\\Asus\\AppData\\Roaming\\nltk_data...\n",
      "[nltk_data]   Package stopwords is already up-to-date!\n",
      "[nltk_data] Downloading package wordnet to\n",
      "[nltk_data]     C:\\Users\\Asus\\AppData\\Roaming\\nltk_data...\n",
      "[nltk_data]   Package wordnet is already up-to-date!\n",
      "[nltk_data] Downloading package punkt to\n",
      "[nltk_data]     C:\\Users\\Asus\\AppData\\Roaming\\nltk_data...\n",
      "[nltk_data]   Package punkt is already up-to-date!\n"
     ]
    },
    {
     "data": {
      "text/plain": [
       "True"
      ]
     },
     "execution_count": 112,
     "metadata": {},
     "output_type": "execute_result"
    }
   ],
   "source": [
    "import nltk\n",
    "import pandas as pd\n",
    "import numpy as np\n",
    "import re\n",
    "import string\n",
    "import math\n",
    "\n",
    "from nltk.corpus import stopwords\n",
    "\n",
    "from sklearn.model_selection import train_test_split\n",
    "from sklearn.feature_extraction.text import CountVectorizer\n",
    "\n",
    "from sklearn.linear_model import LogisticRegression\n",
    "from sklearn.svm import SVC\n",
    "from sklearn.tree import DecisionTreeClassifier\n",
    "\n",
    "from sklearn.feature_selection import chi2\n",
    "\n",
    "from sklearn.metrics import accuracy_score\n",
    "\n",
    "nltk.download(\"stopwords\")\n",
    "nltk.download(\"wordnet\")\n",
    "nltk.download(\"punkt\")"
   ]
  },
  {
   "cell_type": "code",
   "execution_count": 113,
   "id": "2738b562-ae3c-455f-a79d-2eda02ab2a85",
   "metadata": {},
   "outputs": [
    {
     "data": {
      "text/html": [
       "<div>\n",
       "<style scoped>\n",
       "    .dataframe tbody tr th:only-of-type {\n",
       "        vertical-align: middle;\n",
       "    }\n",
       "\n",
       "    .dataframe tbody tr th {\n",
       "        vertical-align: top;\n",
       "    }\n",
       "\n",
       "    .dataframe thead th {\n",
       "        text-align: right;\n",
       "    }\n",
       "</style>\n",
       "<table border=\"1\" class=\"dataframe\">\n",
       "  <thead>\n",
       "    <tr style=\"text-align: right;\">\n",
       "      <th></th>\n",
       "      <th>id</th>\n",
       "      <th>comment_text</th>\n",
       "      <th>toxic</th>\n",
       "      <th>severe_toxic</th>\n",
       "      <th>obscene</th>\n",
       "      <th>threat</th>\n",
       "      <th>insult</th>\n",
       "      <th>identity_hate</th>\n",
       "    </tr>\n",
       "  </thead>\n",
       "  <tbody>\n",
       "    <tr>\n",
       "      <th>0</th>\n",
       "      <td>0000997932d777bf</td>\n",
       "      <td>Explanation\\nWhy the edits made under my usern...</td>\n",
       "      <td>0</td>\n",
       "      <td>0</td>\n",
       "      <td>0</td>\n",
       "      <td>0</td>\n",
       "      <td>0</td>\n",
       "      <td>0</td>\n",
       "    </tr>\n",
       "    <tr>\n",
       "      <th>1</th>\n",
       "      <td>000103f0d9cfb60f</td>\n",
       "      <td>D'aww! He matches this background colour I'm s...</td>\n",
       "      <td>0</td>\n",
       "      <td>0</td>\n",
       "      <td>0</td>\n",
       "      <td>0</td>\n",
       "      <td>0</td>\n",
       "      <td>0</td>\n",
       "    </tr>\n",
       "    <tr>\n",
       "      <th>2</th>\n",
       "      <td>000113f07ec002fd</td>\n",
       "      <td>Hey man, I'm really not trying to edit war. It...</td>\n",
       "      <td>0</td>\n",
       "      <td>0</td>\n",
       "      <td>0</td>\n",
       "      <td>0</td>\n",
       "      <td>0</td>\n",
       "      <td>0</td>\n",
       "    </tr>\n",
       "    <tr>\n",
       "      <th>3</th>\n",
       "      <td>0001b41b1c6bb37e</td>\n",
       "      <td>\"\\nMore\\nI can't make any real suggestions on ...</td>\n",
       "      <td>0</td>\n",
       "      <td>0</td>\n",
       "      <td>0</td>\n",
       "      <td>0</td>\n",
       "      <td>0</td>\n",
       "      <td>0</td>\n",
       "    </tr>\n",
       "    <tr>\n",
       "      <th>4</th>\n",
       "      <td>0001d958c54c6e35</td>\n",
       "      <td>You, sir, are my hero. Any chance you remember...</td>\n",
       "      <td>0</td>\n",
       "      <td>0</td>\n",
       "      <td>0</td>\n",
       "      <td>0</td>\n",
       "      <td>0</td>\n",
       "      <td>0</td>\n",
       "    </tr>\n",
       "  </tbody>\n",
       "</table>\n",
       "</div>"
      ],
      "text/plain": [
       "                 id                                       comment_text  toxic  \\\n",
       "0  0000997932d777bf  Explanation\\nWhy the edits made under my usern...      0   \n",
       "1  000103f0d9cfb60f  D'aww! He matches this background colour I'm s...      0   \n",
       "2  000113f07ec002fd  Hey man, I'm really not trying to edit war. It...      0   \n",
       "3  0001b41b1c6bb37e  \"\\nMore\\nI can't make any real suggestions on ...      0   \n",
       "4  0001d958c54c6e35  You, sir, are my hero. Any chance you remember...      0   \n",
       "\n",
       "   severe_toxic  obscene  threat  insult  identity_hate  \n",
       "0             0        0       0       0              0  \n",
       "1             0        0       0       0              0  \n",
       "2             0        0       0       0              0  \n",
       "3             0        0       0       0              0  \n",
       "4             0        0       0       0              0  "
      ]
     },
     "execution_count": 113,
     "metadata": {},
     "output_type": "execute_result"
    }
   ],
   "source": [
    "file_path = \"toxicData/train.csv\"\n",
    "df = pd.read_csv(file_path)\n",
    "df.head()"
   ]
  },
  {
   "cell_type": "code",
   "execution_count": 114,
   "id": "b1a358bc-46fb-4a69-a87d-134f406b6f03",
   "metadata": {},
   "outputs": [
    {
     "data": {
      "text/html": [
       "<div>\n",
       "<style scoped>\n",
       "    .dataframe tbody tr th:only-of-type {\n",
       "        vertical-align: middle;\n",
       "    }\n",
       "\n",
       "    .dataframe tbody tr th {\n",
       "        vertical-align: top;\n",
       "    }\n",
       "\n",
       "    .dataframe thead th {\n",
       "        text-align: right;\n",
       "    }\n",
       "</style>\n",
       "<table border=\"1\" class=\"dataframe\">\n",
       "  <thead>\n",
       "    <tr style=\"text-align: right;\">\n",
       "      <th></th>\n",
       "      <th>comment_text</th>\n",
       "      <th>isToxic</th>\n",
       "    </tr>\n",
       "  </thead>\n",
       "  <tbody>\n",
       "    <tr>\n",
       "      <th>0</th>\n",
       "      <td>Explanation\\nWhy the edits made under my usern...</td>\n",
       "      <td>-1</td>\n",
       "    </tr>\n",
       "    <tr>\n",
       "      <th>1</th>\n",
       "      <td>D'aww! He matches this background colour I'm s...</td>\n",
       "      <td>-1</td>\n",
       "    </tr>\n",
       "    <tr>\n",
       "      <th>2</th>\n",
       "      <td>Hey man, I'm really not trying to edit war. It...</td>\n",
       "      <td>-1</td>\n",
       "    </tr>\n",
       "    <tr>\n",
       "      <th>3</th>\n",
       "      <td>\"\\nMore\\nI can't make any real suggestions on ...</td>\n",
       "      <td>-1</td>\n",
       "    </tr>\n",
       "    <tr>\n",
       "      <th>4</th>\n",
       "      <td>You, sir, are my hero. Any chance you remember...</td>\n",
       "      <td>-1</td>\n",
       "    </tr>\n",
       "  </tbody>\n",
       "</table>\n",
       "</div>"
      ],
      "text/plain": [
       "                                        comment_text  isToxic\n",
       "0  Explanation\\nWhy the edits made under my usern...       -1\n",
       "1  D'aww! He matches this background colour I'm s...       -1\n",
       "2  Hey man, I'm really not trying to edit war. It...       -1\n",
       "3  \"\\nMore\\nI can't make any real suggestions on ...       -1\n",
       "4  You, sir, are my hero. Any chance you remember...       -1"
      ]
     },
     "execution_count": 114,
     "metadata": {},
     "output_type": "execute_result"
    }
   ],
   "source": [
    "# Transform the dataframe\n",
    "df[\"isToxic\"] = df[\"toxic\"]+df[\"severe_toxic\"]\n",
    "df[\"isToxic\"] = df[\"isToxic\"].apply(lambda x: 1 if x>=1 else -1)\n",
    "df.drop(columns = [\"id\",\"toxic\",\"severe_toxic\",\"obscene\",\"threat\",\"insult\",\"identity_hate\"],inplace=True)\n",
    "df.drop_duplicates(inplace=True)\n",
    "df.head()"
   ]
  },
  {
   "cell_type": "code",
   "execution_count": 115,
   "id": "cdd2f690-7c28-42c8-86c1-5c5c9cfe7d1a",
   "metadata": {},
   "outputs": [],
   "source": [
    "X_train, X_test, y_train, y_test = train_test_split(df[\"comment_text\"],df[\"isToxic\"],test_size=0.25,shuffle=True)"
   ]
  },
  {
   "cell_type": "code",
   "execution_count": 116,
   "id": "1515f9c4-8b54-43f6-9a7d-19ea5dc40b43",
   "metadata": {},
   "outputs": [],
   "source": [
    "# Remove Excess White Spaces\n",
    "X_train = X_train.str.replace(\"\\n\", \" \")\n",
    "# Remove Punctuations\n",
    "X_train = X_train.str.translate(str.maketrans('', '',string.punctuation))\n",
    "# Keep English Letters\n",
    "X_train = X_train.apply(lambda x: re.sub(r'[^a-zA-Z\\s]', '', x))\n",
    "# Remove UTC\n",
    "X_train = X_train.str.replace(\"UTC\",\"\")\n",
    "# Remove Month\n",
    "pattern = r\"\\b(January|February|March|April|May|June|July|August|September|October|November|December)\\b\"\n",
    "X_train = X_train.str.replace(pattern, \"\", regex=True, case=False)\n",
    "# Lowercase all Letters\n",
    "X_train = X_train.str.lower()\n",
    "# Remove Links\n",
    "pattern = r\"\\bhttp\\S*\\b\"\n",
    "X_train = X_train.str.replace(pattern, \"\", regex=True, case=False)\n",
    "# Remove Stop Words\n",
    "stop_words = set(stopwords.words('english'))\n",
    "X_train = X_train.apply(lambda x: ' '.join([word for word in x.split() if word not in stop_words]))"
   ]
  },
  {
   "cell_type": "code",
   "execution_count": 117,
   "id": "f017ec5b-32cc-4b6e-b118-35aadcccbcc6",
   "metadata": {},
   "outputs": [
    {
     "data": {
      "text/plain": [
       "78125                     tide laundry detergent delete jan\n",
       "61116                                         speak america\n",
       "79933     peace walk course satish kumar companion used ...\n",
       "116124    change change newer stop support syrian govern...\n",
       "75406     partially idea squashed deformed wikipedia log...\n",
       "Name: comment_text, dtype: object"
      ]
     },
     "execution_count": 117,
     "metadata": {},
     "output_type": "execute_result"
    }
   ],
   "source": [
    "X_train.head()"
   ]
  },
  {
   "cell_type": "code",
   "execution_count": 118,
   "id": "32bc3001-3d9f-4c2d-a248-fd1395596754",
   "metadata": {},
   "outputs": [],
   "source": [
    "vectorizer = CountVectorizer(binary=True)\n",
    "X_train_counts = vectorizer.fit_transform(X_train)\n",
    "\n",
    "chi2_scores, p_values = chi2(X_train_counts, y_train)\n",
    "feature_scores = pd.DataFrame({\n",
    "    'Feature': vectorizer.get_feature_names_out(),\n",
    "    'Chi2 Score': chi2_scores,\n",
    "    'P-Value': p_values\n",
    "})\n",
    "feature_scores = feature_scores.sort_values(by='Chi2 Score', ascending=False)"
   ]
  },
  {
   "cell_type": "code",
   "execution_count": 119,
   "id": "2ce3dea2-55e2-4373-a1b9-11a4b5328820",
   "metadata": {},
   "outputs": [
    {
     "name": "stdout",
     "output_type": "stream",
     "text": [
      "Top Features by Chi2 Score:\n"
     ]
    },
    {
     "data": {
      "text/html": [
       "<div>\n",
       "<style scoped>\n",
       "    .dataframe tbody tr th:only-of-type {\n",
       "        vertical-align: middle;\n",
       "    }\n",
       "\n",
       "    .dataframe tbody tr th {\n",
       "        vertical-align: top;\n",
       "    }\n",
       "\n",
       "    .dataframe thead th {\n",
       "        text-align: right;\n",
       "    }\n",
       "</style>\n",
       "<table border=\"1\" class=\"dataframe\">\n",
       "  <thead>\n",
       "    <tr style=\"text-align: right;\">\n",
       "      <th></th>\n",
       "      <th>Feature</th>\n",
       "      <th>Chi2 Score</th>\n",
       "      <th>P-Value</th>\n",
       "    </tr>\n",
       "  </thead>\n",
       "  <tbody>\n",
       "    <tr>\n",
       "      <th>58179</th>\n",
       "      <td>fuck</td>\n",
       "      <td>16153.814986</td>\n",
       "      <td>0.0</td>\n",
       "    </tr>\n",
       "    <tr>\n",
       "      <th>58214</th>\n",
       "      <td>fucking</td>\n",
       "      <td>10657.988328</td>\n",
       "      <td>0.0</td>\n",
       "    </tr>\n",
       "    <tr>\n",
       "      <th>138309</th>\n",
       "      <td>shit</td>\n",
       "      <td>7346.764213</td>\n",
       "      <td>0.0</td>\n",
       "    </tr>\n",
       "    <tr>\n",
       "      <th>10447</th>\n",
       "      <td>ass</td>\n",
       "      <td>4850.583048</td>\n",
       "      <td>0.0</td>\n",
       "    </tr>\n",
       "    <tr>\n",
       "      <th>17206</th>\n",
       "      <td>bitch</td>\n",
       "      <td>4661.379090</td>\n",
       "      <td>0.0</td>\n",
       "    </tr>\n",
       "  </tbody>\n",
       "</table>\n",
       "</div>"
      ],
      "text/plain": [
       "        Feature    Chi2 Score  P-Value\n",
       "58179      fuck  16153.814986      0.0\n",
       "58214   fucking  10657.988328      0.0\n",
       "138309     shit   7346.764213      0.0\n",
       "10447       ass   4850.583048      0.0\n",
       "17206     bitch   4661.379090      0.0"
      ]
     },
     "execution_count": 119,
     "metadata": {},
     "output_type": "execute_result"
    }
   ],
   "source": [
    "print(\"Top Features by Chi2 Score:\")\n",
    "feature_scores.head()"
   ]
  },
  {
   "cell_type": "code",
   "execution_count": 120,
   "id": "aa3ae078-3443-469f-93db-60e128401ddf",
   "metadata": {},
   "outputs": [
    {
     "data": {
      "text/html": [
       "<div>\n",
       "<style scoped>\n",
       "    .dataframe tbody tr th:only-of-type {\n",
       "        vertical-align: middle;\n",
       "    }\n",
       "\n",
       "    .dataframe tbody tr th {\n",
       "        vertical-align: top;\n",
       "    }\n",
       "\n",
       "    .dataframe thead th {\n",
       "        text-align: right;\n",
       "    }\n",
       "</style>\n",
       "<table border=\"1\" class=\"dataframe\">\n",
       "  <thead>\n",
       "    <tr style=\"text-align: right;\">\n",
       "      <th></th>\n",
       "      <th>Feature</th>\n",
       "      <th>Chi2 Score</th>\n",
       "      <th>P-Value</th>\n",
       "    </tr>\n",
       "  </thead>\n",
       "  <tbody>\n",
       "    <tr>\n",
       "      <th>58179</th>\n",
       "      <td>fuck</td>\n",
       "      <td>16153.814986</td>\n",
       "      <td>0.0</td>\n",
       "    </tr>\n",
       "    <tr>\n",
       "      <th>58214</th>\n",
       "      <td>fucking</td>\n",
       "      <td>10657.988328</td>\n",
       "      <td>0.0</td>\n",
       "    </tr>\n",
       "    <tr>\n",
       "      <th>138309</th>\n",
       "      <td>shit</td>\n",
       "      <td>7346.764213</td>\n",
       "      <td>0.0</td>\n",
       "    </tr>\n",
       "    <tr>\n",
       "      <th>10447</th>\n",
       "      <td>ass</td>\n",
       "      <td>4850.583048</td>\n",
       "      <td>0.0</td>\n",
       "    </tr>\n",
       "    <tr>\n",
       "      <th>17206</th>\n",
       "      <td>bitch</td>\n",
       "      <td>4661.379090</td>\n",
       "      <td>0.0</td>\n",
       "    </tr>\n",
       "  </tbody>\n",
       "</table>\n",
       "</div>"
      ],
      "text/plain": [
       "        Feature    Chi2 Score  P-Value\n",
       "58179      fuck  16153.814986      0.0\n",
       "58214   fucking  10657.988328      0.0\n",
       "138309     shit   7346.764213      0.0\n",
       "10447       ass   4850.583048      0.0\n",
       "17206     bitch   4661.379090      0.0"
      ]
     },
     "execution_count": 120,
     "metadata": {},
     "output_type": "execute_result"
    }
   ],
   "source": [
    "significantFeatures = feature_scores[feature_scores[\"P-Value\"] <= 0.1]\n",
    "significantFeatures.head()"
   ]
  },
  {
   "cell_type": "code",
   "execution_count": 121,
   "id": "a8616eda-198a-464b-a132-5b2f6e62e2bf",
   "metadata": {},
   "outputs": [],
   "source": [
    "filteredFeatures = feature_scores[\n",
    "    feature_scores['P-Value'] <= 0.1\n",
    "].nlargest(1000, 'Chi2 Score')['Feature'].tolist()\n",
    "\n",
    "filteredVectorizer = CountVectorizer(vocabulary=filteredFeatures,binary=True)\n",
    "X_train_filtered = filteredVectorizer.transform(X_train)"
   ]
  },
  {
   "cell_type": "code",
   "execution_count": 122,
   "id": "6c9a63a4-ef1d-44d7-96ae-b69352fe4b9c",
   "metadata": {},
   "outputs": [],
   "source": [
    "nTrain = X_train_filtered.shape[0]\n",
    "X_test = filteredVectorizer.transform(X_test)"
   ]
  },
  {
   "cell_type": "code",
   "execution_count": 123,
   "id": "e8058fd0-2e46-4b47-bf1f-0b944c7e169d",
   "metadata": {},
   "outputs": [],
   "source": [
    "weights = np.ones(nTrain) / nTrain"
   ]
  },
  {
   "cell_type": "code",
   "execution_count": 124,
   "id": "31f319cc-4545-4db6-ac00-7dd5effe2a99",
   "metadata": {},
   "outputs": [],
   "source": [
    "weights_list = weights.tolist()\n",
    "\n",
    "def calculateError(weak_classifier, X, y):\n",
    "    predictions = weak_classifier.predict(X)\n",
    "    misclassified_indices = np.where(y != predictions)[0]\n",
    "    error_t = sum(weights_list[i] for i in misclassified_indices) / sum(weights_list)\n",
    "\n",
    "    accuracy = accuracy_score(y, predictions)\n",
    "    print(f'Accuracy: {accuracy}')\n",
    "    \n",
    "    return error_t, predictions\n",
    "\n",
    "def gym(alpha_t, y_true, y_pred):\n",
    "    global weights_list\n",
    "    y_true = np.array(y_true)\n",
    "    y_pred = np.array(y_pred) \n",
    "\n",
    "    for i in range(len(weights_list)):\n",
    "        weights_list[i] *= math.exp(-alpha_t * y_true[i] * y_pred[i])\n",
    "\n",
    "    weight_sum = sum(weights_list)\n",
    "    weights_list = [weight / weight_sum for weight in weights_list]\n",
    "\n",
    "def deathlyBoosted(X, y, weak_classifier):\n",
    "    weak_classifier.fit(X, y, sample_weight=weights_list)\n",
    "    error_t, predictions = calculateError(weak_classifier, X, y)\n",
    "    alpha_t = 0.5 * math.log((1 - error_t) / error_t)\n",
    "\n",
    "    gym(alpha_t, y, predictions)"
   ]
  },
  {
   "cell_type": "markdown",
   "id": "8e5fc171-cc4c-438e-98dc-e3f7f1b3f947",
   "metadata": {},
   "source": [
    "### SVM, Decision Trees, Logistic Regression"
   ]
  },
  {
   "cell_type": "code",
   "execution_count": 79,
   "id": "bf4c817b-753c-4896-bb5f-7f49f7fc0a3f",
   "metadata": {},
   "outputs": [
    {
     "data": {
      "text/html": [
       "<style>#sk-container-id-3 {color: black;background-color: white;}#sk-container-id-3 pre{padding: 0;}#sk-container-id-3 div.sk-toggleable {background-color: white;}#sk-container-id-3 label.sk-toggleable__label {cursor: pointer;display: block;width: 100%;margin-bottom: 0;padding: 0.3em;box-sizing: border-box;text-align: center;}#sk-container-id-3 label.sk-toggleable__label-arrow:before {content: \"▸\";float: left;margin-right: 0.25em;color: #696969;}#sk-container-id-3 label.sk-toggleable__label-arrow:hover:before {color: black;}#sk-container-id-3 div.sk-estimator:hover label.sk-toggleable__label-arrow:before {color: black;}#sk-container-id-3 div.sk-toggleable__content {max-height: 0;max-width: 0;overflow: hidden;text-align: left;background-color: #f0f8ff;}#sk-container-id-3 div.sk-toggleable__content pre {margin: 0.2em;color: black;border-radius: 0.25em;background-color: #f0f8ff;}#sk-container-id-3 input.sk-toggleable__control:checked~div.sk-toggleable__content {max-height: 200px;max-width: 100%;overflow: auto;}#sk-container-id-3 input.sk-toggleable__control:checked~label.sk-toggleable__label-arrow:before {content: \"▾\";}#sk-container-id-3 div.sk-estimator input.sk-toggleable__control:checked~label.sk-toggleable__label {background-color: #d4ebff;}#sk-container-id-3 div.sk-label input.sk-toggleable__control:checked~label.sk-toggleable__label {background-color: #d4ebff;}#sk-container-id-3 input.sk-hidden--visually {border: 0;clip: rect(1px 1px 1px 1px);clip: rect(1px, 1px, 1px, 1px);height: 1px;margin: -1px;overflow: hidden;padding: 0;position: absolute;width: 1px;}#sk-container-id-3 div.sk-estimator {font-family: monospace;background-color: #f0f8ff;border: 1px dotted black;border-radius: 0.25em;box-sizing: border-box;margin-bottom: 0.5em;}#sk-container-id-3 div.sk-estimator:hover {background-color: #d4ebff;}#sk-container-id-3 div.sk-parallel-item::after {content: \"\";width: 100%;border-bottom: 1px solid gray;flex-grow: 1;}#sk-container-id-3 div.sk-label:hover label.sk-toggleable__label {background-color: #d4ebff;}#sk-container-id-3 div.sk-serial::before {content: \"\";position: absolute;border-left: 1px solid gray;box-sizing: border-box;top: 0;bottom: 0;left: 50%;z-index: 0;}#sk-container-id-3 div.sk-serial {display: flex;flex-direction: column;align-items: center;background-color: white;padding-right: 0.2em;padding-left: 0.2em;position: relative;}#sk-container-id-3 div.sk-item {position: relative;z-index: 1;}#sk-container-id-3 div.sk-parallel {display: flex;align-items: stretch;justify-content: center;background-color: white;position: relative;}#sk-container-id-3 div.sk-item::before, #sk-container-id-3 div.sk-parallel-item::before {content: \"\";position: absolute;border-left: 1px solid gray;box-sizing: border-box;top: 0;bottom: 0;left: 50%;z-index: -1;}#sk-container-id-3 div.sk-parallel-item {display: flex;flex-direction: column;z-index: 1;position: relative;background-color: white;}#sk-container-id-3 div.sk-parallel-item:first-child::after {align-self: flex-end;width: 50%;}#sk-container-id-3 div.sk-parallel-item:last-child::after {align-self: flex-start;width: 50%;}#sk-container-id-3 div.sk-parallel-item:only-child::after {width: 0;}#sk-container-id-3 div.sk-dashed-wrapped {border: 1px dashed gray;margin: 0 0.4em 0.5em 0.4em;box-sizing: border-box;padding-bottom: 0.4em;background-color: white;}#sk-container-id-3 div.sk-label label {font-family: monospace;font-weight: bold;display: inline-block;line-height: 1.2em;}#sk-container-id-3 div.sk-label-container {text-align: center;}#sk-container-id-3 div.sk-container {/* jupyter's `normalize.less` sets `[hidden] { display: none; }` but bootstrap.min.css set `[hidden] { display: none !important; }` so we also need the `!important` here to be able to override the default hidden behavior on the sphinx rendered scikit-learn.org. See: https://github.com/scikit-learn/scikit-learn/issues/21755 */display: inline-block !important;position: relative;}#sk-container-id-3 div.sk-text-repr-fallback {display: none;}</style><div id=\"sk-container-id-3\" class=\"sk-top-container\"><div class=\"sk-text-repr-fallback\"><pre>SVC(kernel=&#x27;linear&#x27;)</pre><b>In a Jupyter environment, please rerun this cell to show the HTML representation or trust the notebook. <br />On GitHub, the HTML representation is unable to render, please try loading this page with nbviewer.org.</b></div><div class=\"sk-container\" hidden><div class=\"sk-item\"><div class=\"sk-estimator sk-toggleable\"><input class=\"sk-toggleable__control sk-hidden--visually\" id=\"sk-estimator-id-3\" type=\"checkbox\" checked><label for=\"sk-estimator-id-3\" class=\"sk-toggleable__label sk-toggleable__label-arrow\">SVC</label><div class=\"sk-toggleable__content\"><pre>SVC(kernel=&#x27;linear&#x27;)</pre></div></div></div></div></div>"
      ],
      "text/plain": [
       "SVC(kernel='linear')"
      ]
     },
     "execution_count": 79,
     "metadata": {},
     "output_type": "execute_result"
    }
   ],
   "source": [
    "svmModel = SVC(kernel='linear')\n",
    "svmModel.fit(X_train_filtered, y_train, sample_weight=weights)"
   ]
  },
  {
   "cell_type": "code",
   "execution_count": 80,
   "id": "997eb889-75c0-418b-8526-afff55419503",
   "metadata": {},
   "outputs": [
    {
     "name": "stdout",
     "output_type": "stream",
     "text": [
      "Accuracy: 0.9044937248282893\n"
     ]
    }
   ],
   "source": [
    "error_t,pred= calculateError(svmModel, X_train_filtered, y_train)"
   ]
  },
  {
   "cell_type": "code",
   "execution_count": 81,
   "id": "a9dc0184-3223-4eeb-979f-d8d047d77e38",
   "metadata": {},
   "outputs": [],
   "source": [
    "alpha_t = 0.5 * math.log((1 - error_t) / error_t)\n",
    "gym(alpha_t, y_train, pred)"
   ]
  },
  {
   "cell_type": "code",
   "execution_count": 82,
   "id": "10cc682f-fe6f-4c15-b4c6-b7cc45635341",
   "metadata": {},
   "outputs": [
    {
     "name": "stdout",
     "output_type": "stream",
     "text": [
      "Accuracy: 0.98872808703354\n"
     ]
    }
   ],
   "source": [
    "decisionTree =  DecisionTreeClassifier(random_state=42)\n",
    "deathlyBoosted(X_train_filtered, y_train, decisionTree)"
   ]
  },
  {
   "cell_type": "code",
   "execution_count": 83,
   "id": "59a50394-9ca8-4d16-ad80-453caaf5bdaf",
   "metadata": {},
   "outputs": [
    {
     "name": "stdout",
     "output_type": "stream",
     "text": [
      "Accuracy: 0.09550627517171076\n"
     ]
    }
   ],
   "source": [
    "logisModel = LogisticRegression()\n",
    "deathlyBoosted(X_train_filtered, y_train, logisModel)"
   ]
  },
  {
   "cell_type": "code",
   "execution_count": 84,
   "id": "5492da69-0cf3-4615-bc1e-b2f0ffd1d234",
   "metadata": {},
   "outputs": [
    {
     "name": "stdout",
     "output_type": "stream",
     "text": [
      "Accuracy: 0.6415882618359264\n"
     ]
    }
   ],
   "source": [
    "logisModel = LogisticRegression()\n",
    "deathlyBoosted(X_train_filtered, y_train, logisModel)"
   ]
  },
  {
   "cell_type": "code",
   "execution_count": 85,
   "id": "08a610eb-3cf2-4354-8778-c462cf0e23b9",
   "metadata": {},
   "outputs": [],
   "source": [
    "test_predictions = logisModel.predict(X_test)"
   ]
  },
  {
   "cell_type": "code",
   "execution_count": 86,
   "id": "c985dd0b-5ba5-4170-8d05-6a49e80ea99e",
   "metadata": {},
   "outputs": [
    {
     "name": "stdout",
     "output_type": "stream",
     "text": [
      "Accuracy: 0.6421928659163262\n"
     ]
    }
   ],
   "source": [
    "accuracy = accuracy_score(y_test, test_predictions)\n",
    "print(f'Accuracy: {accuracy}')"
   ]
  },
  {
   "cell_type": "markdown",
   "id": "34c65255-942b-4f2d-ae08-61f5e678a142",
   "metadata": {},
   "source": [
    "### SVM, Logistic Regression, Decision Tees"
   ]
  },
  {
   "cell_type": "code",
   "execution_count": 16,
   "id": "5646aa59-2a18-4283-b07b-d7a8d4aeb0f7",
   "metadata": {},
   "outputs": [
    {
     "name": "stdout",
     "output_type": "stream",
     "text": [
      "Accuracy: 0.903557880312171\n"
     ]
    }
   ],
   "source": [
    "svmModel = SVC(kernel='linear')\n",
    "svmModel.fit(X_train_filtered, y_train, sample_weight=weights_list)\n",
    "error_t,pred= calculateError(svmModel, X_train_filtered, y_train)\n",
    "alpha_t = 0.5 * math.log((1 - error_t) / error_t)\n",
    "gym(alpha_t, y_train, pred)"
   ]
  },
  {
   "cell_type": "code",
   "execution_count": 17,
   "id": "9209f850-5a9f-4630-89d6-91113f7f3368",
   "metadata": {},
   "outputs": [
    {
     "name": "stdout",
     "output_type": "stream",
     "text": [
      "Accuracy: 0.6200304149467738\n"
     ]
    }
   ],
   "source": [
    "logisModel = LogisticRegression()\n",
    "deathlyBoosted(X_train_filtered, y_train, logisModel)"
   ]
  },
  {
   "cell_type": "code",
   "execution_count": 18,
   "id": "05d17bda-5611-47c4-90d8-114e2aee11eb",
   "metadata": {},
   "outputs": [
    {
     "name": "stdout",
     "output_type": "stream",
     "text": [
      "Accuracy: 0.9921205234044687\n"
     ]
    }
   ],
   "source": [
    "decisionTree =  DecisionTreeClassifier(random_state=42)\n",
    "deathlyBoosted(X_train_filtered, y_train, decisionTree)"
   ]
  },
  {
   "cell_type": "code",
   "execution_count": 19,
   "id": "7d49f7aa-52ec-42a2-bf5c-cc0dbd39d204",
   "metadata": {},
   "outputs": [
    {
     "name": "stdout",
     "output_type": "stream",
     "text": [
      "Accuracy: 0.923996056083825\n"
     ]
    }
   ],
   "source": [
    "decisionTree =  DecisionTreeClassifier(random_state=42)\n",
    "deathlyBoosted(X_train_filtered, y_train, decisionTree)"
   ]
  },
  {
   "cell_type": "code",
   "execution_count": 20,
   "id": "32775bf9-baf3-4665-be2c-6e46a51258a3",
   "metadata": {},
   "outputs": [
    {
     "name": "stdout",
     "output_type": "stream",
     "text": [
      "Accuracy: 0.8398215225728825\n"
     ]
    }
   ],
   "source": [
    "test_predictions = decisionTree.predict(X_test)\n",
    "accuracy = accuracy_score(y_test, test_predictions)\n",
    "print(f'Accuracy: {accuracy}')"
   ]
  },
  {
   "cell_type": "markdown",
   "id": "1244bec6-a72b-4af9-9c44-9d36a57a36cb",
   "metadata": {},
   "source": [
    "### Logistic Regression, SVM, Decision Tees"
   ]
  },
  {
   "cell_type": "code",
   "execution_count": 38,
   "id": "e842e7c6-2bc8-4ff2-bf08-579081860051",
   "metadata": {},
   "outputs": [
    {
     "name": "stdout",
     "output_type": "stream",
     "text": [
      "Accuracy: 0.9043516769999499\n"
     ]
    }
   ],
   "source": [
    "logisModel = LogisticRegression()\n",
    "deathlyBoosted(X_train_filtered, y_train, logisModel)"
   ]
  },
  {
   "cell_type": "code",
   "execution_count": 40,
   "id": "75dbb40c-64d5-4acc-a80c-e96976f8a68b",
   "metadata": {},
   "outputs": [
    {
     "name": "stdout",
     "output_type": "stream",
     "text": [
      "Accuracy: 0.9043516769999499\n"
     ]
    }
   ],
   "source": [
    "svmModel = SVC(kernel='linear')\n",
    "svmModel.fit(X_train_filtered, y_train, sample_weight=weights_list)\n",
    "error_t,pred= calculateError(svmModel, X_train_filtered, y_train)\n",
    "alpha_t = 0.5 * math.log((1 - error_t) / error_t)\n",
    "gym(alpha_t, y_train, pred)"
   ]
  },
  {
   "cell_type": "code",
   "execution_count": 41,
   "id": "6a08523b-643d-43b8-a8ae-65eb453d64ad",
   "metadata": {},
   "outputs": [
    {
     "name": "stdout",
     "output_type": "stream",
     "text": [
      "Accuracy: 0.9883604338307792\n"
     ]
    }
   ],
   "source": [
    "decisionTree =  DecisionTreeClassifier(random_state=42)\n",
    "deathlyBoosted(X_train_filtered, y_train, decisionTree)"
   ]
  },
  {
   "cell_type": "code",
   "execution_count": 42,
   "id": "c0b2de43-db66-41b6-928b-a91d03c2bfaa",
   "metadata": {},
   "outputs": [
    {
     "name": "stdout",
     "output_type": "stream",
     "text": [
      "Accuracy: 0.9253831113487859\n"
     ]
    }
   ],
   "source": [
    "decisionTree =  DecisionTreeClassifier(random_state=42)\n",
    "deathlyBoosted(X_train_filtered, y_train, decisionTree)"
   ]
  },
  {
   "cell_type": "code",
   "execution_count": 43,
   "id": "faa61955-3fc7-4926-9dc1-8b2126405cfa",
   "metadata": {},
   "outputs": [
    {
     "name": "stdout",
     "output_type": "stream",
     "text": [
      "Accuracy: 0.8464642919810493\n"
     ]
    }
   ],
   "source": [
    "test_predictions = decisionTree.predict(X_test)\n",
    "accuracy = accuracy_score(y_test, test_predictions)\n",
    "print(f'Accuracy: {accuracy}')"
   ]
  },
  {
   "cell_type": "markdown",
   "id": "a7b13e79-2e68-4289-8330-a519eaa2fd2c",
   "metadata": {},
   "source": [
    "### Logistic Regression, Decision Tees, SVM"
   ]
  },
  {
   "cell_type": "code",
   "execution_count": 58,
   "id": "fecd39dd-ce1d-4240-9723-7cfdb0699a00",
   "metadata": {},
   "outputs": [
    {
     "name": "stdout",
     "output_type": "stream",
     "text": [
      "Accuracy: 0.9044770133190728\n"
     ]
    }
   ],
   "source": [
    "logisModel = LogisticRegression()\n",
    "deathlyBoosted(X_train_filtered, y_train, logisModel)"
   ]
  },
  {
   "cell_type": "code",
   "execution_count": 59,
   "id": "3b394239-c5d8-44c0-9c78-1c5a79bb43b7",
   "metadata": {},
   "outputs": [
    {
     "name": "stdout",
     "output_type": "stream",
     "text": [
      "Accuracy: 0.9869984458296429\n"
     ]
    }
   ],
   "source": [
    "decisionTree =  DecisionTreeClassifier(random_state=42)\n",
    "deathlyBoosted(X_train_filtered, y_train, decisionTree)"
   ]
  },
  {
   "cell_type": "code",
   "execution_count": 61,
   "id": "9a5e2c46-bd69-4bf7-bb1e-7a64c58d9c3c",
   "metadata": {},
   "outputs": [
    {
     "name": "stdout",
     "output_type": "stream",
     "text": [
      "Accuracy: 0.4066912882902455\n"
     ]
    }
   ],
   "source": [
    "svmModel = SVC(kernel='linear')\n",
    "svmModel.fit(X_train_filtered, y_train, sample_weight=weights_list)\n",
    "error_t,pred= calculateError(svmModel, X_train_filtered, y_train)\n",
    "alpha_t = 0.5 * math.log((1 - error_t) / error_t)\n",
    "gym(alpha_t, y_train, pred)"
   ]
  },
  {
   "cell_type": "code",
   "execution_count": 62,
   "id": "c2b14465-79e7-4b98-af23-dcd42e599ceb",
   "metadata": {},
   "outputs": [
    {
     "name": "stdout",
     "output_type": "stream",
     "text": [
      "Accuracy: 0.9044770133190728\n"
     ]
    }
   ],
   "source": [
    "svmModel = SVC(kernel='linear')\n",
    "svmModel.fit(X_train_filtered, y_train, sample_weight=weights_list)\n",
    "error_t,pred= calculateError(svmModel, X_train_filtered, y_train)\n",
    "alpha_t = 0.5 * math.log((1 - error_t) / error_t)\n",
    "gym(alpha_t, y_train, pred)"
   ]
  },
  {
   "cell_type": "code",
   "execution_count": 63,
   "id": "80c610ce-5832-4471-9ddc-d130dfbe6831",
   "metadata": {},
   "outputs": [
    {
     "name": "stdout",
     "output_type": "stream",
     "text": [
      "Accuracy: 0.9031910360213571\n"
     ]
    }
   ],
   "source": [
    "test_predictions = svmModel.predict(X_test)\n",
    "accuracy = accuracy_score(y_test, test_predictions)\n",
    "print(f'Accuracy: {accuracy}')"
   ]
  },
  {
   "cell_type": "markdown",
   "id": "85b8eef3-9401-4c64-910e-9fe658ccec9b",
   "metadata": {},
   "source": [
    "### Decision Tees, Logistic Regression, SVM"
   ]
  },
  {
   "cell_type": "code",
   "execution_count": 125,
   "id": "d673b15e-19ad-4e6d-8b97-3f238da80009",
   "metadata": {},
   "outputs": [
    {
     "name": "stdout",
     "output_type": "stream",
     "text": [
      "Accuracy: 0.993440732632564\n"
     ]
    }
   ],
   "source": [
    "decisionTree =  DecisionTreeClassifier(random_state=42)\n",
    "deathlyBoosted(X_train_filtered, y_train, decisionTree)"
   ]
  },
  {
   "cell_type": "code",
   "execution_count": 126,
   "id": "78a972dd-2693-40b7-8ab0-216aee2a8cba",
   "metadata": {},
   "outputs": [
    {
     "name": "stdout",
     "output_type": "stream",
     "text": [
      "Accuracy: 0.8127141162118351\n"
     ]
    }
   ],
   "source": [
    "logisModel = LogisticRegression()\n",
    "deathlyBoosted(X_train_filtered, y_train, logisModel)"
   ]
  },
  {
   "cell_type": "code",
   "execution_count": 127,
   "id": "47ec7bba-49ad-4f01-ae16-b0ff17eb6d77",
   "metadata": {},
   "outputs": [
    {
     "name": "stdout",
     "output_type": "stream",
     "text": [
      "Accuracy: 0.903808552950417\n"
     ]
    }
   ],
   "source": [
    "svmModel = SVC(kernel='linear')\n",
    "svmModel.fit(X_train_filtered, y_train, sample_weight=weights_list)\n",
    "error_t,pred= calculateError(svmModel, X_train_filtered, y_train)\n",
    "alpha_t = 0.5 * math.log((1 - error_t) / error_t)\n",
    "gym(alpha_t, y_train, pred)"
   ]
  },
  {
   "cell_type": "code",
   "execution_count": 128,
   "id": "b222d616-0b72-4aa7-95b3-b123ce4729f6",
   "metadata": {},
   "outputs": [
    {
     "name": "stdout",
     "output_type": "stream",
     "text": [
      "Accuracy: 0.09619144704958305\n"
     ]
    }
   ],
   "source": [
    "svmModel = SVC(kernel='linear')\n",
    "svmModel.fit(X_train_filtered, y_train, sample_weight=weights_list)\n",
    "error_t,pred= calculateError(svmModel, X_train_filtered, y_train)\n",
    "alpha_t = 0.5 * math.log((1 - error_t) / error_t)\n",
    "gym(alpha_t, y_train, pred)"
   ]
  },
  {
   "cell_type": "code",
   "execution_count": 129,
   "id": "0437f9ae-60ed-4ec8-8ac1-006fea5ffdce",
   "metadata": {},
   "outputs": [
    {
     "name": "stdout",
     "output_type": "stream",
     "text": [
      "Accuracy: 0.0948035996290076\n"
     ]
    }
   ],
   "source": [
    "test_predictions = svmModel.predict(X_test)\n",
    "accuracy = accuracy_score(y_test, test_predictions)\n",
    "print(f'Accuracy: {accuracy}')"
   ]
  },
  {
   "cell_type": "markdown",
   "id": "8d75c425-a66d-4a0e-a35b-65a6a2632798",
   "metadata": {},
   "source": [
    "### Decision Tees, SVM, Logistic Regression"
   ]
  },
  {
   "cell_type": "code",
   "execution_count": 107,
   "id": "f478a75a-736d-40a7-a460-394d1e57e735",
   "metadata": {},
   "outputs": [
    {
     "name": "stdout",
     "output_type": "stream",
     "text": [
      "Accuracy: 0.99369140527081\n"
     ]
    }
   ],
   "source": [
    "decisionTree =  DecisionTreeClassifier(random_state=42)\n",
    "deathlyBoosted(X_train_filtered, y_train, decisionTree)"
   ]
  },
  {
   "cell_type": "code",
   "execution_count": 108,
   "id": "d121d15c-a61a-48fd-938b-f2fadfc9f0d0",
   "metadata": {},
   "outputs": [
    {
     "name": "stdout",
     "output_type": "stream",
     "text": [
      "Accuracy: 0.9041511388893531\n"
     ]
    }
   ],
   "source": [
    "svmModel = SVC(kernel='linear')\n",
    "svmModel.fit(X_train_filtered, y_train, sample_weight=weights_list)\n",
    "error_t,pred= calculateError(svmModel, X_train_filtered, y_train)\n",
    "alpha_t = 0.5 * math.log((1 - error_t) / error_t)\n",
    "gym(alpha_t, y_train, pred)"
   ]
  },
  {
   "cell_type": "code",
   "execution_count": 109,
   "id": "b5fffd0e-b04a-45a3-beda-d6a1c674637c",
   "metadata": {},
   "outputs": [
    {
     "name": "stdout",
     "output_type": "stream",
     "text": [
      "Accuracy: 0.6064690252176674\n"
     ]
    }
   ],
   "source": [
    "logisModel = LogisticRegression()\n",
    "deathlyBoosted(X_train_filtered, y_train, logisModel)"
   ]
  },
  {
   "cell_type": "code",
   "execution_count": 110,
   "id": "afe55ff4-3242-4b85-aad9-fb6f93d6bb7c",
   "metadata": {},
   "outputs": [
    {
     "name": "stdout",
     "output_type": "stream",
     "text": [
      "Accuracy: 0.9041511388893531\n"
     ]
    }
   ],
   "source": [
    "logisModel = LogisticRegression()\n",
    "deathlyBoosted(X_train_filtered, y_train, logisModel)"
   ]
  },
  {
   "cell_type": "code",
   "execution_count": 111,
   "id": "a1fa5bcf-5086-402f-b0bd-c4eb5ed2a6d7",
   "metadata": {},
   "outputs": [
    {
     "name": "stdout",
     "output_type": "stream",
     "text": [
      "Accuracy: 0.9041686511418043\n"
     ]
    }
   ],
   "source": [
    "test_predictions = logisModel.predict(X_test)\n",
    "accuracy = accuracy_score(y_test, test_predictions)\n",
    "print(f'Accuracy: {accuracy}')"
   ]
  }
 ],
 "metadata": {
  "kernelspec": {
   "display_name": "Python 3 (ipykernel)",
   "language": "python",
   "name": "python3"
  },
  "language_info": {
   "codemirror_mode": {
    "name": "ipython",
    "version": 3
   },
   "file_extension": ".py",
   "mimetype": "text/x-python",
   "name": "python",
   "nbconvert_exporter": "python",
   "pygments_lexer": "ipython3",
   "version": "3.11.7"
  }
 },
 "nbformat": 4,
 "nbformat_minor": 5
}
