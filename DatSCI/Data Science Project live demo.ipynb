{
 "cells": [
  {
   "cell_type": "code",
   "execution_count": 8,
   "id": "8577acda-c05a-4f91-a9fb-a756621968ed",
   "metadata": {},
   "outputs": [],
   "source": [
    "import joblib\n",
    "dt_logiReg_svm_path = \"dt_logiReg_svm.pkl\"\n",
    "dt_svm_logiReg_path = \"dt_svm_logiReg.pkl\"\n",
    "filtered_vectorizer_path = \"filtered_vectorizer.pkl\"\n",
    "logiReg_dt_svm_path = \"logiReg_dt_svm.pkl\"\n",
    "logiReg_svm_dt_path = \"logiReg_svm_dt.pkl\"\n",
    "svm_dt_logiReg_path = \"svm_dt_logiReg.pkl\"\n",
    "svm_logiReg_dt_path = \"svm_logiReg_dt.pkl\"\n",
    "\n",
    "dt_logiReg_svm = joblib.load(dt_logiReg_svm_path)\n",
    "dt_svm_logiReg = joblib.load(dt_svm_logiReg_path)\n",
    "filtered_vectorizer = joblib.load(filtered_vectorizer_path)\n",
    "logiReg_dt_svm = joblib.load(logiReg_dt_svm_path)\n",
    "logiReg_svm_dt = joblib.load(logiReg_svm_dt_path)\n",
    "svm_dt_logiReg = joblib.load(svm_dt_logiReg_path)\n",
    "svm_logiReg_dt = joblib.load(svm_logiReg_dt_path)\n",
    "\n",
    "models = [dt_logiReg_svm,dt_svm_logiReg,logiReg_dt_svm,logiReg_svm_dt,svm_dt_logiReg,svm_logiReg_dt]"
   ]
  },
  {
   "cell_type": "code",
   "execution_count": 64,
   "id": "9cb2b722-be29-4ae4-adfe-78bf7d8a843f",
   "metadata": {},
   "outputs": [
    {
     "name": "stdin",
     "output_type": "stream",
     "text": [
      "Enter your comment:  Let me know what you want okey\n"
     ]
    }
   ],
   "source": [
    "liveComment = input(\"Enter your comment: \")\n",
    "vectorized_texts = filtered_vectorizer.transform([liveComment])"
   ]
  },
  {
   "cell_type": "code",
   "execution_count": 55,
   "id": "ef665a7f-1519-4f6d-9a52-57dc279aa684",
   "metadata": {},
   "outputs": [],
   "source": [
    "def istoxic (pred,modelSequence):\n",
    "    if pred > 0:\n",
    "        print(f\"\\n{modelSequence}:\\n`{liveComment}` is a Toxic Comment\")\n",
    "    else:\n",
    "        print(f\"\\n{modelSequence}:\\n`{liveComment}` is a Non-Toxic Comment\")"
   ]
  },
  {
   "cell_type": "code",
   "execution_count": 65,
   "id": "59692fcb-d40b-405d-9920-78f01e86bc74",
   "metadata": {},
   "outputs": [],
   "source": [
    "model1=list(svm_dt_logiReg.predict(vectorized_texts))[0]\n",
    "model2=list(svm_logiReg_dt.predict(vectorized_texts))[0]\n",
    "model3=list(dt_svm_logiReg.predict(vectorized_texts))[0]\n",
    "model4=list(dt_logiReg_svm.predict(vectorized_texts))[0]\n",
    "model5=list(logiReg_svm_dt.predict(vectorized_texts))[0]\n",
    "model6=list(logiReg_dt_svm.predict(vectorized_texts))[0]"
   ]
  },
  {
   "cell_type": "code",
   "execution_count": 63,
   "id": "1589783b-32cc-4a44-922c-3e06b324ed23",
   "metadata": {},
   "outputs": [
    {
     "name": "stdout",
     "output_type": "stream",
     "text": [
      "\n",
      "svm_dt_logiReg:\n",
      "`Wow I love your vids!` is a Toxic Comment\n",
      "\n",
      "svm_logiReg_dt:\n",
      "`Wow I love your vids!` is a Toxic Comment\n",
      "\n",
      "dt_svm_logiReg:\n",
      "`Wow I love your vids!` is a Toxic Comment\n",
      "\n",
      "dt_logiReg_svm:\n",
      "`Wow I love your vids!` is a Non-Toxic Comment\n",
      "\n",
      "logiReg_svm_dt:\n",
      "`Wow I love your vids!` is a Toxic Comment\n",
      "\n",
      "logiReg_dt_svm:\n",
      "`Wow I love your vids!` is a Toxic Comment\n"
     ]
    }
   ],
   "source": [
    "predictions_perModel = [(model1,\"svm_dt_logiReg\"),(model2,\"svm_logiReg_dt\"),(model3,\"dt_svm_logiReg\"),(model4,\"dt_logiReg_svm\"),(model5,\"logiReg_svm_dt\"),(model6,\"logiReg_dt_svm\")]\n",
    "for pred,sequence in predictions_perModel:\n",
    "    istoxic(pred,sequence)"
   ]
  },
  {
   "cell_type": "code",
   "execution_count": 66,
   "id": "09638548-8db9-4e0b-99bc-ba13a40a8d45",
   "metadata": {},
   "outputs": [
    {
     "name": "stdout",
     "output_type": "stream",
     "text": [
      "\n",
      "svm_dt_logiReg:\n",
      "`Let me know what you want okey` is a Toxic Comment\n",
      "\n",
      "svm_logiReg_dt:\n",
      "`Let me know what you want okey` is a Non-Toxic Comment\n",
      "\n",
      "dt_svm_logiReg:\n",
      "`Let me know what you want okey` is a Toxic Comment\n",
      "\n",
      "dt_logiReg_svm:\n",
      "`Let me know what you want okey` is a Non-Toxic Comment\n",
      "\n",
      "logiReg_svm_dt:\n",
      "`Let me know what you want okey` is a Non-Toxic Comment\n",
      "\n",
      "logiReg_dt_svm:\n",
      "`Let me know what you want okey` is a Toxic Comment\n"
     ]
    }
   ],
   "source": [
    "predictions_perModel = [(model1,\"svm_dt_logiReg\"),(model2,\"svm_logiReg_dt\"),(model3,\"dt_svm_logiReg\"),(model4,\"dt_logiReg_svm\"),(model5,\"logiReg_svm_dt\"),(model6,\"logiReg_dt_svm\")]\n",
    "for pred,sequence in predictions_perModel:\n",
    "    istoxic(pred,sequence)"
   ]
  },
  {
   "cell_type": "code",
   "execution_count": null,
   "id": "b44cfc14-668a-43f8-9064-443f40734637",
   "metadata": {},
   "outputs": [],
   "source": [
    "predictions_perModel = [(model1,\"svm_dt_logiReg\"),(model2,\"svm_logiReg_dt\"),(model3,\"dt_svm_logiReg\"),(model4,\"dt_logiReg_svm\"),(model5,\"logiReg_svm_dt\"),(model6,\"logiReg_dt_svm\")]\n",
    "for pred,sequence in predictions_perModel:\n",
    "    istoxic(pred,sequence)"
   ]
  }
 ],
 "metadata": {
  "kernelspec": {
   "display_name": "Python 3 (ipykernel)",
   "language": "python",
   "name": "python3"
  },
  "language_info": {
   "codemirror_mode": {
    "name": "ipython",
    "version": 3
   },
   "file_extension": ".py",
   "mimetype": "text/x-python",
   "name": "python",
   "nbconvert_exporter": "python",
   "pygments_lexer": "ipython3",
   "version": "3.11.7"
  }
 },
 "nbformat": 4,
 "nbformat_minor": 5
}
